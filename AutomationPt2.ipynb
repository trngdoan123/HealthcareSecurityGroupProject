{
 "cells": [
  {
   "cell_type": "code",
   "execution_count": 1,
   "metadata": {},
   "outputs": [
    {
     "name": "stdout",
     "output_type": "stream",
     "text": [
      "Requirement already satisfied: psutil in c:\\users\\trung\\appdata\\roaming\\python\\python312\\site-packages (6.0.0)\n",
      "Note: you may need to restart the kernel to use updated packages.\n"
     ]
    },
    {
     "name": "stderr",
     "output_type": "stream",
     "text": [
      "\n",
      "[notice] A new release of pip is available: 24.2 -> 24.3.1\n",
      "[notice] To update, run: python.exe -m pip install --upgrade pip\n"
     ]
    }
   ],
   "source": [
    "pip install psutil"
   ]
  },
  {
   "cell_type": "code",
   "execution_count": null,
   "metadata": {},
   "outputs": [
    {
     "name": "stdout",
     "output_type": "stream",
     "text": [
      "Time: 2024-11-10 16:45:33, CPU Usage: 0.9%, Memory Usage: 55.5%, Disk Usage: 23.1%\n",
      "Time: 2024-11-10 16:45:44, CPU Usage: 7.8%, Memory Usage: 54.9%, Disk Usage: 23.1%\n",
      "Time: 2024-11-10 16:45:55, CPU Usage: 4.6%, Memory Usage: 55.9%, Disk Usage: 23.1%\n",
      "Time: 2024-11-10 16:46:06, CPU Usage: 8.1%, Memory Usage: 55.4%, Disk Usage: 23.1%\n",
      "Time: 2024-11-10 16:46:17, CPU Usage: 1.3%, Memory Usage: 55.7%, Disk Usage: 23.1%\n",
      "Time: 2024-11-10 16:46:28, CPU Usage: 0.3%, Memory Usage: 54.8%, Disk Usage: 23.1%\n",
      "Time: 2024-11-10 16:46:39, CPU Usage: 3.5%, Memory Usage: 54.8%, Disk Usage: 23.1%\n",
      "Time: 2024-11-10 16:46:50, CPU Usage: 1.4%, Memory Usage: 54.9%, Disk Usage: 23.1%\n",
      "Time: 2024-11-10 16:47:01, CPU Usage: 4.2%, Memory Usage: 55.1%, Disk Usage: 23.1%\n",
      "Time: 2024-11-10 16:47:12, CPU Usage: 1.6%, Memory Usage: 55.7%, Disk Usage: 23.1%\n",
      "Time: 2024-11-10 16:47:23, CPU Usage: 1.3%, Memory Usage: 56.2%, Disk Usage: 23.1%\n",
      "Time: 2024-11-10 16:47:34, CPU Usage: 3.7%, Memory Usage: 54.7%, Disk Usage: 23.1%\n",
      "Time: 2024-11-10 16:47:45, CPU Usage: 3.3%, Memory Usage: 55.3%, Disk Usage: 23.1%\n",
      "Time: 2024-11-10 16:47:56, CPU Usage: 3.3%, Memory Usage: 55.0%, Disk Usage: 23.1%\n",
      "Time: 2024-11-10 16:48:07, CPU Usage: 4.0%, Memory Usage: 55.1%, Disk Usage: 23.1%\n",
      "Time: 2024-11-10 16:48:18, CPU Usage: 0.7%, Memory Usage: 55.5%, Disk Usage: 23.1%\n",
      "Time: 2024-11-10 16:48:29, CPU Usage: 1.0%, Memory Usage: 54.4%, Disk Usage: 23.1%\n",
      "Time: 2024-11-10 16:48:40, CPU Usage: 0.1%, Memory Usage: 55.6%, Disk Usage: 23.1%\n",
      "Time: 2024-11-10 16:48:51, CPU Usage: 4.7%, Memory Usage: 56.0%, Disk Usage: 23.1%\n",
      "Time: 2024-11-10 16:49:02, CPU Usage: 3.4%, Memory Usage: 54.6%, Disk Usage: 23.1%\n"
     ]
    }
   ],
   "source": [
    "import psutil\n",
    "import time\n",
    "\n",
    "# Thresholds for alerts\n",
    "CPU_THRESHOLD = 90  # CPU usage threshold in %\n",
    "MEMORY_THRESHOLD = 90  # Memory usage threshold in %\n",
    "DISK_THRESHOLD = 90  # Disk usage threshold in %\n",
    "\n",
    "# Log file path\n",
    "LOG_FILE = 'performance_log.txt'\n",
    "\n",
    "def log_performance():\n",
    "    # Get current system metrics\n",
    "    cpu_usage = psutil.cpu_percent(interval=1)\n",
    "    memory_info = psutil.virtual_memory()\n",
    "    disk_info = psutil.disk_usage('/')\n",
    "\n",
    "    # Format the log entry\n",
    "    log_entry = (\n",
    "        f\"Time: {time.strftime('%Y-%m-%d %H:%M:%S')}, \"\n",
    "        f\"CPU Usage: {cpu_usage}%, \"\n",
    "        f\"Memory Usage: {memory_info.percent}%, \"\n",
    "        f\"Disk Usage: {disk_info.percent}%\\n\"\n",
    "    )\n",
    "\n",
    "    # Write to log file\n",
    "    with open(LOG_FILE, 'a') as f:\n",
    "        f.write(log_entry)\n",
    "\n",
    "    # Print log entry to console for visibility\n",
    "    print(log_entry.strip())\n",
    "\n",
    "    # Check for high usage and generate alerts\n",
    "    if cpu_usage > CPU_THRESHOLD:\n",
    "        print(\"ALERT: High CPU usage detected!\")\n",
    "        with open(LOG_FILE, 'a') as f:\n",
    "            f.write(\"ALERT: High CPU usage detected!\\n\")\n",
    "\n",
    "    if memory_info.percent > MEMORY_THRESHOLD:\n",
    "        print(\"ALERT: High Memory usage detected!\")\n",
    "        with open(LOG_FILE, 'a') as f:\n",
    "            f.write(\"ALERT: High Memory usage detected!\\n\")\n",
    "\n",
    "    if disk_info.percent > DISK_THRESHOLD:\n",
    "        print(\"ALERT: High Disk usage detected!\")\n",
    "        with open(LOG_FILE, 'a') as f:\n",
    "            f.write(\"ALERT: High Disk usage detected!\\n\")\n",
    "\n",
    "# Run the monitor at regular intervals (e.g., every 10 seconds)\n",
    "try:\n",
    "    while True:\n",
    "        log_performance()\n",
    "        time.sleep(10)  # Adjust the interval as needed\n",
    "except KeyboardInterrupt:\n",
    "    print(\"Monitoring stopped.\")"
   ]
  }
 ],
 "metadata": {
  "kernelspec": {
   "display_name": "Python 3",
   "language": "python",
   "name": "python3"
  },
  "language_info": {
   "codemirror_mode": {
    "name": "ipython",
    "version": 3
   },
   "file_extension": ".py",
   "mimetype": "text/x-python",
   "name": "python",
   "nbconvert_exporter": "python",
   "pygments_lexer": "ipython3",
   "version": "3.12.6"
  }
 },
 "nbformat": 4,
 "nbformat_minor": 2
}
