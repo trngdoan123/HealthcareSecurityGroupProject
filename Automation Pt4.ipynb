{
 "cells": [
  {
   "cell_type": "code",
   "execution_count": null,
   "metadata": {},
   "outputs": [],
   "source": [
    "sudo apt install nmap "
   ]
  },
  {
   "cell_type": "code",
   "execution_count": null,
   "metadata": {},
   "outputs": [],
   "source": [
    "import subprocess\n",
    "import time\n",
    "\n",
    "# Target IP address or hostname to scan\n",
    "TARGET = \"192.168.1.1\"  # Replace with the actual target\n",
    "SCAN_INTERVAL = 24 * 60 * 60  # Daily scan (in seconds)\n",
    "LOG_FILE = \"import subprocess\"\n",
    "import time\n",
    "\n",
    "# Target IP address or hostname to scan\n",
    "TARGET = \"192.168.1.1\"  # Replace with the actual target\n",
    "SCAN_INTERVAL = 24 * 60 * 60  # Daily scan (in seconds)\n",
    "LOG_FILE = \"system_log\"\n",
    "\n",
    "\n",
    "\n",
    "\n",
    "def run_nmap_scan():\n",
    "    \"\"\"Run an nmap vulnerability scan and log the results.\"\"\"\n",
    "    try:\n",
    "        # Run the nmap command for vulnerability scanning\n",
    "        result = subprocess.run(\n",
    "            [\"nmap\", \"-sV\", \"--script\", \"vuln\", TARGET],\n",
    "            capture_output=True,\n",
    "            text=True\n",
    "        )\n",
    "        # Log the output\n",
    "        with open(LOG_FILE, \"a\") as log:\n",
    "            log.write(f\"\\nTime: {time.strftime('%Y-%m-%d %H:%M:%S')}\\n\")\n",
    "            log.write(result.stdout)\n",
    "            log.write(\"\\n\" + \"=\"*40 + \"\\n\")\n",
    "        print(f\"Vulnerability scan completed and logged for {TARGET}.\")\n",
    "    except Exception as e:\n",
    "        print(f\"Failed to run nmap scan: {e}\")\n",
    "\n",
    "# Schedule the scan to run daily\n",
    "try:\n",
    "    while True:\n",
    "        run_nmap_scan()\n",
    "        time.sleep(SCAN_INTERVAL)\n",
    "except KeyboardInterrupt:\n",
    "    print(\"Vulnerability scanning stopped.\")\n"
   ]
  }
 ],
 "metadata": {
  "kernelspec": {
   "display_name": "Python 3",
   "language": "python",
   "name": "python3"
  },
  "language_info": {
   "codemirror_mode": {
    "name": "ipython",
    "version": 3
   },
   "file_extension": ".py",
   "mimetype": "text/x-python",
   "name": "python",
   "nbconvert_exporter": "python",
   "pygments_lexer": "ipython3",
   "version": "3.12.6"
  }
 },
 "nbformat": 4,
 "nbformat_minor": 2
}
