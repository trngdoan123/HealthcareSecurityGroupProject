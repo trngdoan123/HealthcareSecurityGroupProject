{
 "cells": [
  {
   "cell_type": "code",
   "execution_count": null,
   "metadata": {},
   "outputs": [
    {
     "name": "stdout",
     "output_type": "stream",
     "text": [
      "Current CPU usage: 6.9%\n",
      "Failed to send email alert: (535, b'5.7.8 Username and Password not accepted. For more information, go to\\n5.7.8  https://support.google.com/mail/?p=BadCredentials 6a1803df08f44-6d3961ecdcbsm50602656d6.31 - gsmtp')\n",
      "Current CPU usage: 5.2%\n",
      "Failed to send email alert: (535, b'5.7.8 Username and Password not accepted. For more information, go to\\n5.7.8  https://support.google.com/mail/?p=BadCredentials 6a1803df08f44-6d396643437sm50224566d6.129 - gsmtp')\n",
      "Current CPU usage: 3.9%\n",
      "Failed to send email alert: (535, b'5.7.8 Username and Password not accepted. For more information, go to\\n5.7.8  https://support.google.com/mail/?p=BadCredentials 6a1803df08f44-6d3961df9f1sm50568206d6.23 - gsmtp')\n",
      "Current CPU usage: 3.5%\n",
      "Failed to send email alert: (535, b'5.7.8 Username and Password not accepted. For more information, go to\\n5.7.8  https://support.google.com/mail/?p=BadCredentials 6a1803df08f44-6d39643b5cfsm50503456d6.92 - gsmtp')\n",
      "Current CPU usage: 5.1%\n",
      "Failed to send email alert: (535, b'5.7.8 Username and Password not accepted. For more information, go to\\n5.7.8  https://support.google.com/mail/?p=BadCredentials 6a1803df08f44-6d39620b6cdsm50026696d6.55 - gsmtp')\n",
      "Current CPU usage: 4.4%\n",
      "Failed to send email alert: (535, b'5.7.8 Username and Password not accepted. For more information, go to\\n5.7.8  https://support.google.com/mail/?p=BadCredentials af79cd13be357-7b32ac8b371sm419920185a.66 - gsmtp')\n"
     ]
    }
   ],
   "source": [
    "import psutil\n",
    "import smtplib\n",
    "from email.mime.text import MIMEText\n",
    "import time\n",
    "\n",
    "# Configure email alert settings\n",
    "EMAIL_FROM = \"gmucyse2024@gmail.com\"  # Sender email address\n",
    "EMAIL_TO = \"tdoan23@gmu.edu\"  # Recipient email address (client)\n",
    "SMTP_SERVER = \"smtp.gmail.com\"\n",
    "SMTP_PORT = 587\n",
    "SMTP_USER = \"gmucyse2024@gmail.com\"\n",
    "SMTP_PASSWORD = \"FastGuy123!\"  \n",
    "\n",
    "# CPU usage threshold for alert\n",
    "CPU_THRESHOLD = 2  # Set to 2% for testing\n",
    "\n",
    "def send_email_alert(subject, body):\n",
    "    \"\"\"Send an email alert with the given subject and body.\"\"\"\n",
    "    msg = MIMEText(body)\n",
    "    msg[\"Subject\"] = subject\n",
    "    msg[\"From\"] = \"gmucyse2024@gmail.com\"\n",
    "    msg[\"To\"] = \"tdoan23@gmu.edu\"\n",
    "\n",
    "    try:\n",
    "        with smtplib.SMTP(SMTP_SERVER, SMTP_PORT) as server:\n",
    "            server.starttls()\n",
    "            server.login(SMTP_USER, SMTP_PASSWORD)\n",
    "            server.sendmail(EMAIL_FROM, EMAIL_TO, msg.as_string())\n",
    "        print(f\"Alert sent: {subject}\")\n",
    "    except Exception as e:\n",
    "        print(f\"Failed to send email alert: {e}\")\n",
    "\n",
    "def monitor_cpu():\n",
    "    \"\"\"Monitor CPU usage and send an alert if it exceeds the threshold.\"\"\"\n",
    "    cpu_usage = psutil.cpu_percent(interval=1)\n",
    "    print(f\"Current CPU usage: {cpu_usage}%\")\n",
    "    if cpu_usage > CPU_THRESHOLD:\n",
    "        subject = \"ALERT: High CPU Usage\"\n",
    "        body = f\"CPU usage is at {cpu_usage}%, which exceeds the threshold of {CPU_THRESHOLD}%.\"\n",
    "        send_email_alert(subject, body)\n",
    "\n",
    "# Run the monitor every 10 seconds (or adjust as needed)\n",
    "try:\n",
    "    while True:\n",
    "        monitor_cpu()\n",
    "        time.sleep(10)  # Check every 10 seconds\n",
    "except KeyboardInterrupt:\n",
    "    print(\"Monitoring stopped.\")\n"
   ]
  }
 ],
 "metadata": {
  "kernelspec": {
   "display_name": "Python 3",
   "language": "python",
   "name": "python3"
  },
  "language_info": {
   "codemirror_mode": {
    "name": "ipython",
    "version": 3
   },
   "file_extension": ".py",
   "mimetype": "text/x-python",
   "name": "python",
   "nbconvert_exporter": "python",
   "pygments_lexer": "ipython3",
   "version": "3.12.6"
  }
 },
 "nbformat": 4,
 "nbformat_minor": 2
}
